{
 "cells": [
  {
   "cell_type": "markdown",
   "metadata": {},
   "source": [
    "# 文本表示概述\n",
    "不将文本视为字符串，而是视为在数学上处理起来更为方便地向量。\n",
    "## 文本表示分类（基于粒度）\n",
    "* 文本表示\n",
    "* 句子表示（短文本）\n",
    "* 词表示    \n",
    "\n",
    "## 文本表示分类（基于表示方法）\n",
    "* 离散表示\n",
    "    * one-hot表示\n",
    "    * multi-hot表示\n",
    "* 分布式表示\n",
    "    * 基于矩阵\n",
    "        * 基于降维\n",
    "        * 基于聚类\n",
    "    * 基于神经网络\n",
    "        * CBOW\n",
    "        * Skip-gram"
   ]
  },
  {
   "cell_type": "markdown",
   "metadata": {},
   "source": [
    "# 文本分布式表示：word2vec\n",
    "通过给词编码，表达词的意义。  \n",
    "one-hot编码有较大缺陷，每个词都会占据一维空间，词与词之间的关联无法表示。"
   ]
  },
  {
   "cell_type": "markdown",
   "metadata": {},
   "source": [
    "## 基于SVD降维的表示方法\n",
    "### 矩阵降维方法  \n",
    "* 建立词-文档矩阵：  \n",
    "使用multi-hot记录词在不同文档中出现的次数\n",
    "\n",
    "### 连续词袋模型CBOW\n",
    "基于上下文预测中心词\n",
    "\n",
    "### skip-gram模型\n",
    "基于中心词预测上下文"
   ]
  },
  {
   "cell_type": "markdown",
   "metadata": {},
   "source": [
    "# 中文文本向量化表示"
   ]
  },
  {
   "cell_type": "code",
   "execution_count": null,
   "metadata": {},
   "outputs": [],
   "source": []
  }
 ],
 "metadata": {
  "kernelspec": {
   "display_name": "Python 3",
   "language": "python",
   "name": "python3"
  },
  "language_info": {
   "codemirror_mode": {
    "name": "ipython",
    "version": 3
   },
   "file_extension": ".py",
   "mimetype": "text/x-python",
   "name": "python",
   "nbconvert_exporter": "python",
   "pygments_lexer": "ipython3",
   "version": "3.7.4"
  },
  "toc": {
   "base_numbering": 1,
   "nav_menu": {},
   "number_sections": true,
   "sideBar": true,
   "skip_h1_title": false,
   "title_cell": "Table of Contents",
   "title_sidebar": "Contents",
   "toc_cell": false,
   "toc_position": {},
   "toc_section_display": true,
   "toc_window_display": false
  }
 },
 "nbformat": 4,
 "nbformat_minor": 2
}
