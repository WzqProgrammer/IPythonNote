{
 "cells": [
  {
   "cell_type": "markdown",
   "metadata": {},
   "source": [
    "### 需要随机的对象"
   ]
  },
  {
   "cell_type": "code",
   "execution_count": 99,
   "metadata": {},
   "outputs": [],
   "source": [
    "object_dict = {\n",
    "    'apple': 8,\n",
    "    'complete' : 6, \n",
    "    'article' : 2,\n",
    "    'file' : 3, \n",
    "    'some' : 4,\n",
    "    'report' : 3,\n",
    "    'status' : 5,\n",
    "    'all' : 4,\n",
    "    'dump' : 3,\n",
    "    'data' : 2\n",
    "}"
   ]
  },
  {
   "cell_type": "markdown",
   "metadata": {},
   "source": [
    "### 控制概率抽取的算法实现"
   ]
  },
  {
   "cell_type": "code",
   "execution_count": 100,
   "metadata": {},
   "outputs": [],
   "source": [
    "import random\n",
    "\n",
    "def controll_random_extract(object_dict, return_count = 4):\n",
    "    # 根据对象权重设置随机值\n",
    "    process_dict = {key : value * random.randint(1, 10) \n",
    "                    for key, value in object_dict.items()}\n",
    "    \n",
    "    # 根据权重大小降序排列\n",
    "    object_list = sorted(process_dict.items(), key = lambda x : x[1], reverse=True)\n",
    "    # 获取需要结果，权重最高的在最前\n",
    "    result_list = object_list[0 : return_count]\n",
    "    result_list = [key for key, value in dict(result_list).items()]\n",
    "    return result_list"
   ]
  },
  {
   "cell_type": "markdown",
   "metadata": {},
   "source": [
    "### 抽取测试"
   ]
  },
  {
   "cell_type": "code",
   "execution_count": 103,
   "metadata": {},
   "outputs": [
    {
     "name": "stdout",
     "output_type": "stream",
     "text": [
      "{'apple': 785, 'complete': 700, 'article': 67, 'file': 279, 'some': 507, 'report': 246, 'status': 619, 'all': 475, 'dump': 275, 'data': 43}\n",
      "{'apple': 496, 'complete': 273, 'article': 0, 'file': 10, 'some': 50, 'report': 2, 'status': 119, 'all': 45, 'dump': 3, 'data': 1}\n"
     ]
    }
   ],
   "source": [
    "# 测试字典，值为该对象出现的次数\n",
    "test_dict1 = {key:0 for key, value in object_dict.items()} # 在四个选项中出现的频率\n",
    "test_dict2 = {key:0 for key, value in object_dict.items()} # 做为问题出现的频率\n",
    "\n",
    "for i in range(1, 1000):\n",
    "    result_list = controll_random_extract(object_dict)\n",
    "    for key, value in test_dict1.items():\n",
    "        if key in result_list:\n",
    "            test_dict1[key]+=1\n",
    "            \n",
    "    for key, value in test_dict2.items():\n",
    "        if key == result_list[0]:\n",
    "            test_dict2[key]+=1\n",
    "    \n",
    "print(test_dict1)\n",
    "print(test_dict2)"
   ]
  },
  {
   "cell_type": "code",
   "execution_count": 104,
   "metadata": {},
   "outputs": [
    {
     "data": {
      "image/png": "[encoded data removed]",
      "text/plain": [
       "<Figure size 864x864 with 2 Axes>"
      ]
     },
     "metadata": {
      "needs_background": "light"
     },
     "output_type": "display_data"
    }
   ],
   "source": [
    "import numpy as np\n",
    "import matplotlib.pyplot as plt\n",
    "\n",
    "x = [key for key, value in test_dict1.items()]\n",
    "y1 = [value for key, value in test_dict1.items()]\n",
    "y2 = [value for key, value in test_dict2.items()]\n",
    "\n",
    "fig, (ax1, ax2)= plt.subplots(2, figsize=(12,12))\n",
    "ax1.bar(x, y1 , align='center', color = 'gray')\n",
    "ax1.set(xticklabels = x)\n",
    "\n",
    "ax2.bar(x, y2 , align='center', color = 'gray')\n",
    "ax2.set(xticklabels = x)\n",
    "plt.show()"
   ]
  },
  {
   "cell_type": "code",
   "execution_count": null,
   "metadata": {},
   "outputs": [],
   "source": []
  }
 ],
 "metadata": {
  "kernelspec": {
   "display_name": "Python 3",
   "language": "python",
   "name": "python3"
  },
  "language_info": {
   "codemirror_mode": {
    "name": "ipython",
    "version": 3
   },
   "file_extension": ".py",
   "mimetype": "text/x-python",
   "name": "python",
   "nbconvert_exporter": "python",
   "pygments_lexer": "ipython3",
   "version": "3.7.4"
  }
 },
 "nbformat": 4,
 "nbformat_minor": 2
}
