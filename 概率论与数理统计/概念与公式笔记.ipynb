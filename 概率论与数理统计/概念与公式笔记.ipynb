{
 "cells": [
  {
   "cell_type": "code",
   "execution_count": null,
   "metadata": {},
   "outputs": [],
   "source": []
  },
  {
   "cell_type": "markdown",
   "metadata": {},
   "source": [
    "## 一、随机试验\n",
    "1. 可重复\n",
    "2. 结果已知\n",
    "3. 每次实验结果不能预知   \n",
    " \n",
    "\n",
    "## 二、试验结果\n",
    "样本点：$\\omega$  (结果)  \n",
    "样本空间：$\\Omega$   （全部结果）  \n",
    "$\\Omega$中的一个子集——随机事件  \n",
    "$\\Omega$——必然事件  \n",
    "$\\phi$——空集（不可能事件）"
   ]
  },
  {
   "cell_type": "code",
   "execution_count": null,
   "metadata": {},
   "outputs": [],
   "source": []
  }
 ],
 "metadata": {
  "kernelspec": {
   "display_name": "Python 3",
   "language": "python",
   "name": "python3"
  },
  "language_info": {
   "codemirror_mode": {
    "name": "ipython",
    "version": 3
   },
   "file_extension": ".py",
   "mimetype": "text/x-python",
   "name": "python",
   "nbconvert_exporter": "python",
   "pygments_lexer": "ipython3",
   "version": "3.7.4"
  }
 },
 "nbformat": 4,
 "nbformat_minor": 2
}
