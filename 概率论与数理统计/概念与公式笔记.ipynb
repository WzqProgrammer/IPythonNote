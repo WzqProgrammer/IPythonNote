{
 "cells": [
  {
   "cell_type": "markdown",
   "metadata": {},
   "source": []
  },
  {
   "cell_type": "markdown",
   "metadata": {},
   "source": [
    "## 一、概率论的基本概念\n",
    "### 1.1 试验空间\n",
    "1. 可重复\n",
    "2. 结果已知\n",
    "3. 每次实验结果不能预知   \n",
    "<br/>   \n",
    "\n",
    "### 1.2 试验结果\n",
    "样本点：$\\omega$  (结果)  \n",
    "样本空间：$\\Omega$   （全部结果）  \n",
    "$\\Omega$中的一个子集——随机事件  \n",
    "$\\Omega$——必然事件  \n",
    "$\\phi$——空集（不可能事件）  \n",
    "<br/>  \n",
    "### 1.3 独立性和条件概率\n",
    "#### 条件概率\n",
    "设$P(A)>0, P(B|A)=\\frac{P(AB)}{P(A)} $  \n",
    "$P(B|A)$即在A发生的条件下，B发生的条件概率  \n",
    "<br/>  \n",
    "#### 独立\n",
    "A,B满足$P(AB)=P(A)P(B)$，则称A、B独立\n"
   ]
  },
  {
   "cell_type": "markdown",
   "metadata": {},
   "source": []
  }
 ],
 "metadata": {
  "kernelspec": {
   "display_name": "Python 3",
   "language": "python",
   "name": "python3"
  },
  "language_info": {
   "codemirror_mode": {
    "name": "ipython",
    "version": 3
   },
   "file_extension": ".py",
   "mimetype": "text/x-python",
   "name": "python",
   "nbconvert_exporter": "python",
   "pygments_lexer": "ipython3",
   "version": "3.7.4"
  }
 },
 "nbformat": 4,
 "nbformat_minor": 2
}
