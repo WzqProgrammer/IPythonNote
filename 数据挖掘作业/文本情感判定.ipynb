{
 "cells": [
  {
   "cell_type": "code",
   "execution_count": 16,
   "metadata": {},
   "outputs": [
    {
     "name": "stdout",
     "output_type": "stream",
     "text": [
      "1\n",
      "2\n",
      "3\n",
      "4\n",
      "5\n",
      "6\n",
      "7\n",
      "8\n",
      "9\n",
      "10\n",
      "11\n",
      "12\n",
      "13\n",
      "14\n",
      "15\n",
      "16\n",
      "17\n",
      "18\n",
      "19\n",
      "20\n",
      "21\n",
      "22\n",
      "23\n",
      "24\n"
     ]
    }
   ],
   "source": [
    "import jieba\n",
    "import os\n",
    "import sys\n",
    "import re\n",
    "\n",
    "\n",
    "def cleanhtml(raw_html):\n",
    "    cleanr = re.compile('<.*?>')\n",
    "    cleantext = re.sub(cleanr, ' ', raw_html)\n",
    "    return cleantext\n",
    "\n",
    "\n",
    "inp = 'E:\\下载\\wikiextractor\\extracted_1\\AA'  # 输入路径，需处理的语料文件\n",
    "outp = 'E:\\下载\\wikiextractor\\outputed'   # 输出路径，处理完成的文件\n",
    "count = 0\n",
    "space = ' '\n",
    "for root, dirs, files in os.walk(inp):\n",
    "    for filename in files:\n",
    "        if filename.startswith(\"wiki\"):\n",
    "\n",
    "            output = open(outp + '/' + filename, 'w', encoding='utf-8')\n",
    "            f = open(inp + '/' + filename, 'r', encoding='utf-8')\n",
    "\n",
    "            for line in f.readlines():\n",
    "                seg_list = jieba.cut(cleanhtml(line))\n",
    "                output.write(space.join(seg_list) + '\\n')  # 以空格符为分隔符\n",
    "\n",
    "            output.close()\n",
    "\n",
    "            count += 1\n",
    "            print(count)"
   ]
  },
  {
   "cell_type": "code",
   "execution_count": null,
   "metadata": {},
   "outputs": [],
   "source": []
  },
  {
   "cell_type": "code",
   "execution_count": null,
   "metadata": {},
   "outputs": [],
   "source": []
  }
 ],
 "metadata": {
  "kernelspec": {
   "display_name": "Python 3",
   "language": "python",
   "name": "python3"
  },
  "language_info": {
   "codemirror_mode": {
    "name": "ipython",
    "version": 3
   },
   "file_extension": ".py",
   "mimetype": "text/x-python",
   "name": "python",
   "nbconvert_exporter": "python",
   "pygments_lexer": "ipython3",
   "version": "3.7.4"
  }
 },
 "nbformat": 4,
 "nbformat_minor": 2
}
