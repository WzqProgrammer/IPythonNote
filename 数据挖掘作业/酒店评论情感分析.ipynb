{
 "cells": [
  {
   "cell_type": "markdown",
   "metadata": {},
   "source": [
    "## 1.酒店评论情感分析\n",
    "我们这里解决的问题，是一个具体场景下的性感分析，准确一点说，是我们想借助自然语言处理对文本的情感分类能力，自动对酒店评论数据进行情感分析，进而可以借助情感分析的结果完成酒店的筛选。"
   ]
  },
  {
   "cell_type": "markdown",
   "metadata": {},
   "source": [
    "## 2. 数据读取\n"
   ]
  },
  {
   "cell_type": "markdown",
   "metadata": {},
   "source": [
    "### 2.1工具库"
   ]
  },
  {
   "cell_type": "code",
   "execution_count": 1,
   "metadata": {},
   "outputs": [],
   "source": [
    "import warnings\n",
    "warnings.filterwarnings('ignore')\n",
    "import jieba\n",
    "import numpy as np\n",
    "import codecs  ##codecs提供的open方法来指定打开的文件的语言编码，它会在读取的时候自动转换为内部unicode \n",
    "import pandas as pd\n",
    "import matplotlib.pyplot as plt\n",
    "%matplotlib inline\n",
    "import matplotlib\n",
    "matplotlib.rcParams['figure.figsize'] = (10.0, 5.0)\n",
    "from wordcloud import WordCloud   # 词云包"
   ]
  },
  {
   "cell_type": "markdown",
   "metadata": {},
   "source": [
    "### 2.2 停用词"
   ]
  },
  {
   "cell_type": "code",
   "execution_count": 5,
   "metadata": {},
   "outputs": [],
   "source": [
    "stopwords = []\n",
    "with open('stopwords.txt', 'r', encoding='utf-8') as f:\n",
    "    for line in f.readlines():\n",
    "        stopwords.append(line.strip())"
   ]
  },
  {
   "cell_type": "markdown",
   "metadata": {},
   "source": [
    "### 2.3 评论数据处理"
   ]
  },
  {
   "cell_type": "code",
   "execution_count": 8,
   "metadata": {},
   "outputs": [],
   "source": [
    "import os\n",
    "import sys\n",
    "\n",
    "def get_content(fullname):\n",
    "    f = codecs.open(fullname, 'r', encoding='gbk', errors='ignore')\n",
    "    lines = []\n",
    "    \n",
    "    for eachline in f.readlines():\n",
    "        eachline = eachline.strip()\n",
    "        \n",
    "        if eachline:  # 当前行不为空\n",
    "            lines.append(eachline)\n",
    "    f.close()\n",
    "    return lines\n",
    "\n",
    "# 需处理的数据路径\n",
    "inp = 'E:\\下载\\senti_analysis-master\\data\\ChnSentiCorp_htl_ba_2000'\n",
    "folders = ['neg', 'pos']\n",
    "for foldername in folders:\n",
    "    outp = '1000_' + foldername + '.txt'   # 输出文件\n",
    "    output = codecs.open(outp, 'w')\n",
    "    \n",
    "    rootdir= os.path.join(inp, foldername)\n",
    "    for each_file in os.listdir(rootdir):\n",
    "        contents = get_content(os.path.join(rootdir, each_file))\n",
    "        output.write(''.join(contents)+'\\n')\n",
    "        \n",
    "    output.close()\n",
    "        "
   ]
  },
  {
   "cell_type": "markdown",
   "metadata": {},
   "source": [
    "### 2.4 读取评论数据"
   ]
  },
  {
   "cell_type": "code",
   "execution_count": 10,
   "metadata": {},
   "outputs": [
    {
     "name": "stderr",
     "output_type": "stream",
     "text": [
      "Building prefix dict from the default dictionary ...\n",
      "Loading model from cache C:\\Users\\WANGZH~1\\AppData\\Local\\Temp\\jieba.cache\n",
      "Loading model cost 1.060 seconds.\n",
      "Prefix dict has been built succesfully.\n"
     ]
    }
   ],
   "source": [
    "def read_file(in_f, sentiment, stopwords, words, sentences):\n",
    "    with open(in_f, 'r', encoding='gbk') as f:\n",
    "        for line in f.readlines():\n",
    "            try:\n",
    "                segs = jieba.lcut(line.strip())\n",
    "                # 停用词过滤\n",
    "                segs = [word for word in segs if word not in stopwords and len(word)>1]\n",
    "                # 记录词语\n",
    "                words.extend(segs)\n",
    "                # 添加（分词评论，情感）的元组\n",
    "                sentences.append((segs, sentiment))\n",
    "            except:\n",
    "                print(line)\n",
    "                continue\n",
    "                \n",
    "# 读取数据\n",
    "words = []\n",
    "sentences = []\n",
    "# 好评数据\n",
    "sentiment = 1\n",
    "read_file('1000_pos.txt', 1, stopwords, words, sentences)\n",
    "\n",
    "# 差评数据\n",
    "sentiment = 0\n",
    "read_file('1000_neg.txt', 0, stopwords, words, sentences)"
   ]
  },
  {
   "cell_type": "code",
   "execution_count": 11,
   "metadata": {},
   "outputs": [
    {
     "data": {
      "text/plain": [
       "['距离', '川沙', '公路', '较近', '公交', '指示', '蔡陆线', '非常', '麻烦', '建议']"
      ]
     },
     "execution_count": 11,
     "metadata": {},
     "output_type": "execute_result"
    }
   ],
   "source": [
    "words[:10]"
   ]
  },
  {
   "cell_type": "code",
   "execution_count": 12,
   "metadata": {
    "scrolled": true
   },
   "outputs": [
    {
     "data": {
      "text/plain": [
       "[(['距离',\n",
       "   '川沙',\n",
       "   '公路',\n",
       "   '较近',\n",
       "   '公交',\n",
       "   '指示',\n",
       "   '蔡陆线',\n",
       "   '非常',\n",
       "   '麻烦',\n",
       "   '建议',\n",
       "   '路线',\n",
       "   '房间',\n",
       "   '较为简单'],\n",
       "  1),\n",
       " (['商务', '大床', '房间', '很大', '床有', '2M', '整体', '感觉', '经济', '实惠', '不错'], 1)]"
      ]
     },
     "execution_count": 12,
     "metadata": {},
     "output_type": "execute_result"
    }
   ],
   "source": [
    "sentences[:2]"
   ]
  },
  {
   "cell_type": "markdown",
   "metadata": {},
   "source": [
    "## 3.数据分析"
   ]
  },
  {
   "cell_type": "code",
   "execution_count": 15,
   "metadata": {},
   "outputs": [
    {
     "data": {
      "text/html": [
       "<div>\n",
       "<style scoped>\n",
       "    .dataframe tbody tr th:only-of-type {\n",
       "        vertical-align: middle;\n",
       "    }\n",
       "\n",
       "    .dataframe tbody tr th {\n",
       "        vertical-align: top;\n",
       "    }\n",
       "\n",
       "    .dataframe thead th {\n",
       "        text-align: right;\n",
       "    }\n",
       "</style>\n",
       "<table border=\"1\" class=\"dataframe\">\n",
       "  <thead>\n",
       "    <tr style=\"text-align: right;\">\n",
       "      <th></th>\n",
       "      <th>评论词语</th>\n",
       "      <th>计数</th>\n",
       "    </tr>\n",
       "  </thead>\n",
       "  <tbody>\n",
       "    <tr>\n",
       "      <td>10533</td>\n",
       "      <td>酒店</td>\n",
       "      <td>2741</td>\n",
       "    </tr>\n",
       "    <tr>\n",
       "      <td>5629</td>\n",
       "      <td>房间</td>\n",
       "      <td>1899</td>\n",
       "    </tr>\n",
       "    <tr>\n",
       "      <td>6779</td>\n",
       "      <td>服务</td>\n",
       "      <td>950</td>\n",
       "    </tr>\n",
       "    <tr>\n",
       "      <td>7373</td>\n",
       "      <td>没有</td>\n",
       "      <td>875</td>\n",
       "    </tr>\n",
       "    <tr>\n",
       "      <td>2225</td>\n",
       "      <td>入住</td>\n",
       "      <td>764</td>\n",
       "    </tr>\n",
       "    <tr>\n",
       "      <td>1235</td>\n",
       "      <td>不错</td>\n",
       "      <td>758</td>\n",
       "    </tr>\n",
       "    <tr>\n",
       "      <td>7186</td>\n",
       "      <td>比较</td>\n",
       "      <td>552</td>\n",
       "    </tr>\n",
       "    <tr>\n",
       "      <td>2675</td>\n",
       "      <td>前台</td>\n",
       "      <td>509</td>\n",
       "    </tr>\n",
       "    <tr>\n",
       "      <td>5489</td>\n",
       "      <td>感觉</td>\n",
       "      <td>498</td>\n",
       "    </tr>\n",
       "    <tr>\n",
       "      <td>10930</td>\n",
       "      <td>非常</td>\n",
       "      <td>497</td>\n",
       "    </tr>\n",
       "    <tr>\n",
       "      <td>6462</td>\n",
       "      <td>早餐</td>\n",
       "      <td>485</td>\n",
       "    </tr>\n",
       "    <tr>\n",
       "      <td>635</td>\n",
       "      <td>一个</td>\n",
       "      <td>474</td>\n",
       "    </tr>\n",
       "    <tr>\n",
       "      <td>6098</td>\n",
       "      <td>携程</td>\n",
       "      <td>455</td>\n",
       "    </tr>\n",
       "    <tr>\n",
       "      <td>9709</td>\n",
       "      <td>设施</td>\n",
       "      <td>435</td>\n",
       "    </tr>\n",
       "    <tr>\n",
       "      <td>6783</td>\n",
       "      <td>服务员</td>\n",
       "      <td>432</td>\n",
       "    </tr>\n",
       "    <tr>\n",
       "      <td>4445</td>\n",
       "      <td>宾馆</td>\n",
       "      <td>382</td>\n",
       "    </tr>\n",
       "    <tr>\n",
       "      <td>6319</td>\n",
       "      <td>方便</td>\n",
       "      <td>375</td>\n",
       "    </tr>\n",
       "    <tr>\n",
       "      <td>4386</td>\n",
       "      <td>客人</td>\n",
       "      <td>336</td>\n",
       "    </tr>\n",
       "    <tr>\n",
       "      <td>1828</td>\n",
       "      <td>价格</td>\n",
       "      <td>321</td>\n",
       "    </tr>\n",
       "    <tr>\n",
       "      <td>6582</td>\n",
       "      <td>晚上</td>\n",
       "      <td>282</td>\n",
       "    </tr>\n",
       "  </tbody>\n",
       "</table>\n",
       "</div>"
      ],
      "text/plain": [
       "      评论词语    计数\n",
       "10533   酒店  2741\n",
       "5629    房间  1899\n",
       "6779    服务   950\n",
       "7373    没有   875\n",
       "2225    入住   764\n",
       "1235    不错   758\n",
       "7186    比较   552\n",
       "2675    前台   509\n",
       "5489    感觉   498\n",
       "10930   非常   497\n",
       "6462    早餐   485\n",
       "635     一个   474\n",
       "6098    携程   455\n",
       "9709    设施   435\n",
       "6783   服务员   432\n",
       "4445    宾馆   382\n",
       "6319    方便   375\n",
       "4386    客人   336\n",
       "1828    价格   321\n",
       "6582    晚上   282"
      ]
     },
     "execution_count": 15,
     "metadata": {},
     "output_type": "execute_result"
    }
   ],
   "source": [
    "words_df = pd.DataFrame({'评论词语':words})\n",
    "words_stat = words_df.groupby(by=['评论词语'])['评论词语'].agg({'计数':np.size})\n",
    "words_stat = words_stat.reset_index().sort_values(by=['计数'], ascending=False)\n",
    "words_stat.head(20)"
   ]
  },
  {
   "cell_type": "markdown",
   "metadata": {},
   "source": [
    "## 4.机器学习解决方案"
   ]
  },
  {
   "cell_type": "code",
   "execution_count": 16,
   "metadata": {},
   "outputs": [],
   "source": [
    "# 切分数据\n",
    "from sklearn.model_selection import train_test_split\n",
    "x, y = zip(*sentences)\n",
    "x = [' '.join(sentence) for sentence in x]\n",
    "x_train, x_test, y_train, y_test = train_test_split(x, y, random_state=1, test_size=0.1)"
   ]
  },
  {
   "cell_type": "code",
   "execution_count": 17,
   "metadata": {},
   "outputs": [
    {
     "data": {
      "text/plain": [
       "1800"
      ]
     },
     "execution_count": 17,
     "metadata": {},
     "output_type": "execute_result"
    }
   ],
   "source": [
    "len(x_train)"
   ]
  },
  {
   "cell_type": "code",
   "execution_count": null,
   "metadata": {},
   "outputs": [],
   "source": []
  }
 ],
 "metadata": {
  "kernelspec": {
   "display_name": "Python 3",
   "language": "python",
   "name": "python3"
  },
  "language_info": {
   "codemirror_mode": {
    "name": "ipython",
    "version": 3
   },
   "file_extension": ".py",
   "mimetype": "text/x-python",
   "name": "python",
   "nbconvert_exporter": "python",
   "pygments_lexer": "ipython3",
   "version": "3.7.4"
  }
 },
 "nbformat": 4,
 "nbformat_minor": 2
}
