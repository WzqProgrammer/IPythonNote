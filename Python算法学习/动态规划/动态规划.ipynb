{
 "cells": [
  {
   "cell_type": "markdown",
   "metadata": {},
   "source": [
    "问题描述：给出一数组，找出数中不相邻的数的和最大"
   ]
  },
  {
   "cell_type": "markdown",
   "metadata": {},
   "source": [
    "递归方式解法："
   ]
  },
  {
   "cell_type": "code",
   "execution_count": 6,
   "metadata": {},
   "outputs": [
    {
     "name": "stdout",
     "output_type": "stream",
     "text": [
      "15\n"
     ]
    }
   ],
   "source": [
    "import numpy as np\n",
    "\n",
    "arr = [1,2,4,1,7,8,3]\n",
    "\n",
    "def rec_opt(arr, i):\n",
    "    if i==0:\n",
    "        return arr[0]\n",
    "    elif i==1:\n",
    "        return max(arr[0],arr[1])\n",
    "    else:\n",
    "        A = rec_opt(arr,i-2)+arr[i]\n",
    "        B = rec_opt(arr,i-1)\n",
    "        return max(A, B)\n",
    "    \n",
    "print(rec_opt(arr, 6))"
   ]
  },
  {
   "cell_type": "markdown",
   "metadata": {},
   "source": [
    "动态规划解法："
   ]
  },
  {
   "cell_type": "code",
   "execution_count": 8,
   "metadata": {},
   "outputs": [
    {
     "data": {
      "text/plain": [
       "15.0"
      ]
     },
     "execution_count": 8,
     "metadata": {},
     "output_type": "execute_result"
    }
   ],
   "source": [
    "def dp_opt(arr):\n",
    "    opt_arr = np.zeros(len(arr))\n",
    "    opt_arr[0] = arr[0]\n",
    "    opt_arr[1] = max(arr[0], arr[1])\n",
    "    for i in range(2, len(arr)):\n",
    "        A = opt_arr[i-2] + arr[i]\n",
    "        B = opt_arr[i-1]\n",
    "        opt_arr[i] = max(A, B)\n",
    "    return opt_arr[len(arr)-1]\n",
    "\n",
    "dp_opt(arr)"
   ]
  },
  {
   "cell_type": "code",
   "execution_count": null,
   "metadata": {},
   "outputs": [],
   "source": []
  }
 ],
 "metadata": {
  "kernelspec": {
   "display_name": "Python 3",
   "language": "python",
   "name": "python3"
  },
  "language_info": {
   "codemirror_mode": {
    "name": "ipython",
    "version": 3
   },
   "file_extension": ".py",
   "mimetype": "text/x-python",
   "name": "python",
   "nbconvert_exporter": "python",
   "pygments_lexer": "ipython3",
   "version": "3.7.2"
  }
 },
 "nbformat": 4,
 "nbformat_minor": 2
}
