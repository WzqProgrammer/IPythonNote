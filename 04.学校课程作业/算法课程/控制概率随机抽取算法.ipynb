{
 "cells": [
  {
   "cell_type": "markdown",
   "metadata": {},
   "source": [
    "### 需要随机的对象"
   ]
  },
  {
   "cell_type": "code",
   "execution_count": 1,
   "metadata": {
    "ExecuteTime": {
     "end_time": "2019-10-29T07:29:09.204106Z",
     "start_time": "2019-10-29T07:29:09.192121Z"
    }
   },
   "outputs": [],
   "source": [
    "object_dict = {\n",
    "    'apple': 1,\n",
    "    'milk' : 2, \n",
    "    'dog' : 3,\n",
    "    'cat' : 1, \n",
    "    'man' : 2,\n",
    "    'fire' : 4,\n",
    "    'take' : 2,\n",
    "    'like' : 2,\n",
    "    'egg' : 2,\n",
    "    'good' : 2\n",
    "}"
   ]
  },
  {
   "cell_type": "markdown",
   "metadata": {},
   "source": [
    "### 控制概率抽取的算法实现"
   ]
  },
  {
   "cell_type": "code",
   "execution_count": 2,
   "metadata": {
    "ExecuteTime": {
     "end_time": "2019-10-29T07:29:11.454668Z",
     "start_time": "2019-10-29T07:29:11.442666Z"
    }
   },
   "outputs": [],
   "source": [
    "import random\n",
    "\n",
    "def controll_random_extract(object_dict, return_count = 4):\n",
    "    # 根据对象权重设置随机值\n",
    "    process_dict = {key : value * random.randint(1, 10) \n",
    "                    for key, value in object_dict.items()}\n",
    "    \n",
    "    # 根据权重大小降序排列\n",
    "    object_list = sorted(process_dict.items(), key = lambda x : x[1], reverse=True)\n",
    "    # 获取需要结果，权重最高的在最前\n",
    "    result_list = object_list[0 : return_count]\n",
    "    result_list = [key for key, value in dict(result_list).items()]\n",
    "    return result_list"
   ]
  },
  {
   "cell_type": "markdown",
   "metadata": {},
   "source": [
    "### 抽取测试"
   ]
  },
  {
   "cell_type": "code",
   "execution_count": 3,
   "metadata": {
    "ExecuteTime": {
     "end_time": "2019-10-29T07:29:13.146678Z",
     "start_time": "2019-10-29T07:29:13.070678Z"
    }
   },
   "outputs": [
    {
     "name": "stdout",
     "output_type": "stream",
     "text": [
      "{'apple': 62, 'milk': 448, 'dog': 649, 'cat': 39, 'man': 452, 'fire': 747, 'take': 423, 'like': 413, 'egg': 399, 'good': 364}\n",
      "{'apple': 0, 'milk': 64, 'dog': 275, 'cat': 0, 'man': 42, 'fire': 505, 'take': 34, 'like': 38, 'egg': 24, 'good': 17}\n"
     ]
    }
   ],
   "source": [
    "# 测试字典，值为该对象出现的次数\n",
    "test_dict1 = {key:0 for key, value in object_dict.items()} # 在四个选项中出现的频率\n",
    "test_dict2 = {key:0 for key, value in object_dict.items()} # 做为问题出现的频率\n",
    "\n",
    "for i in range(1, 1000):\n",
    "    result_list = controll_random_extract(object_dict)\n",
    "    for key, value in test_dict1.items():\n",
    "        if key in result_list:\n",
    "            test_dict1[key]+=1\n",
    "            \n",
    "    for key, value in test_dict2.items():\n",
    "        if key == result_list[0]:\n",
    "            test_dict2[key]+=1\n",
    "    \n",
    "print(test_dict1)\n",
    "print(test_dict2)"
   ]
  },
  {
   "cell_type": "code",
   "execution_count": 7,
   "metadata": {
    "ExecuteTime": {
     "end_time": "2019-10-29T07:29:34.516042Z",
     "start_time": "2019-10-29T07:29:34.143744Z"
    }
   },
   "outputs": [
    {
     "data": {
      "image/png": "[encoded data removed]",
      "text/plain": [
       "<Figure size 864x864 with 2 Axes>"
      ]
     },
     "metadata": {
      "needs_background": "light"
     },
     "output_type": "display_data"
    }
   ],
   "source": [
    "import numpy as np\n",
    "import matplotlib.pyplot as plt\n",
    "\n",
    "x = [key for key, value in test_dict1.items()]\n",
    "y1 = [value for key, value in test_dict1.items()]\n",
    "y2 = [value for key, value in test_dict2.items()]\n",
    "\n",
    "fig, (ax1, ax2)= plt.subplots(2, figsize=(12,12))\n",
    "ax1.bar(x, y1 , align='center', color = 'gray')\n",
    "ax1.set(xticklabels = x)\n",
    "\n",
    "ax2.bar(x, y2 , align='center', color = 'gray')\n",
    "ax2.set(xticklabels = x)\n",
    "plt.show()"
   ]
  },
  {
   "cell_type": "code",
   "execution_count": 5,
   "metadata": {
    "ExecuteTime": {
     "end_time": "2019-10-29T07:29:14.804136Z",
     "start_time": "2019-10-29T07:29:14.780135Z"
    }
   },
   "outputs": [
    {
     "data": {
      "text/plain": [
       "array([[ 4.,  8., 12., 16., 20., 24., 28., 32., 36., 40.],\n",
       "       [ 3.,  6.,  9., 12., 15., 18., 21., 24., 27., 30.],\n",
       "       [ 2.,  4.,  6.,  8., 10., 12., 14., 16., 18., 20.],\n",
       "       [ 2.,  4.,  6.,  8., 10., 12., 14., 16., 18., 20.],\n",
       "       [ 2.,  4.,  6.,  8., 10., 12., 14., 16., 18., 20.],\n",
       "       [ 2.,  4.,  6.,  8., 10., 12., 14., 16., 18., 20.],\n",
       "       [ 2.,  4.,  6.,  8., 10., 12., 14., 16., 18., 20.],\n",
       "       [ 2.,  4.,  6.,  8., 10., 12., 14., 16., 18., 20.],\n",
       "       [ 1.,  2.,  3.,  4.,  5.,  6.,  7.,  8.,  9., 10.],\n",
       "       [ 1.,  2.,  3.,  4.,  5.,  6.,  7.,  8.,  9., 10.]])"
      ]
     },
     "execution_count": 5,
     "metadata": {},
     "output_type": "execute_result"
    }
   ],
   "source": [
    "init_list = [4,3,2,2,2,2,2,2,1,1]\n",
    "my_list = np.zeros(shape=(10, 10))\n",
    "for i in range(10):\n",
    "    for j in range(10):\n",
    "        my_list[i][j] = init_list[i]*(j+1)\n",
    "        \n",
    "my_list"
   ]
  },
  {
   "cell_type": "code",
   "execution_count": 6,
   "metadata": {
    "ExecuteTime": {
     "end_time": "2019-10-29T07:29:15.849717Z",
     "start_time": "2019-10-29T07:29:15.821727Z"
    }
   },
   "outputs": [
    {
     "data": {
      "text/plain": [
       "[729, 596, 468, 468, 468, 468, 468, 468, 220, 220]"
      ]
     },
     "execution_count": 6,
     "metadata": {},
     "output_type": "execute_result"
    }
   ],
   "source": [
    "results = []\n",
    "count = 0\n",
    "for z in range(10):\n",
    "    for i in range(10):\n",
    "        for j in range(1,10):\n",
    "            if z == j:\n",
    "                continue\n",
    "            for m in range(10):                   \n",
    "                if my_list[z][i] >= my_list[j][m]:                \n",
    "                    count += 1\n",
    "    results.append(count)\n",
    "    count=0\n",
    "    \n",
    "results"
   ]
  },
  {
   "cell_type": "code",
   "execution_count": null,
   "metadata": {},
   "outputs": [],
   "source": []
  },
  {
   "cell_type": "code",
   "execution_count": null,
   "metadata": {},
   "outputs": [],
   "source": []
  }
 ],
 "metadata": {
  "kernelspec": {
   "display_name": "Python 3",
   "language": "python",
   "name": "python3"
  },
  "language_info": {
   "codemirror_mode": {
    "name": "ipython",
    "version": 3
   },
   "file_extension": ".py",
   "mimetype": "text/x-python",
   "name": "python",
   "nbconvert_exporter": "python",
   "pygments_lexer": "ipython3",
   "version": "3.7.2"
  },
  "toc": {
   "base_numbering": 1,
   "nav_menu": {},
   "number_sections": true,
   "sideBar": true,
   "skip_h1_title": false,
   "title_cell": "Table of Contents",
   "title_sidebar": "Contents",
   "toc_cell": false,
   "toc_position": {},
   "toc_section_display": true,
   "toc_window_display": false
  }
 },
 "nbformat": 4,
 "nbformat_minor": 2
}
