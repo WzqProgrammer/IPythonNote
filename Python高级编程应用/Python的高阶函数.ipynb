{
 "cells": [
  {
   "cell_type": "markdown",
   "metadata": {},
   "source": [
    "### lambda表达式"
   ]
  },
  {
   "cell_type": "code",
   "execution_count": 1,
   "metadata": {},
   "outputs": [
    {
     "data": {
      "text/plain": [
       "9"
      ]
     },
     "execution_count": 1,
     "metadata": {},
     "output_type": "execute_result"
    }
   ],
   "source": [
    "def add(x, y):\n",
    "    return x + y\n",
    "add(4, 5)"
   ]
  },
  {
   "cell_type": "code",
   "execution_count": 2,
   "metadata": {},
   "outputs": [
    {
     "data": {
      "text/plain": [
       "9"
      ]
     },
     "execution_count": 2,
     "metadata": {},
     "output_type": "execute_result"
    }
   ],
   "source": [
    "add_lambda = lambda x, y : x + y\n",
    "add_lambda(4, 5)"
   ]
  },
  {
   "cell_type": "markdown",
   "metadata": {},
   "source": [
    "### map函数"
   ]
  },
  {
   "cell_type": "code",
   "execution_count": 3,
   "metadata": {},
   "outputs": [
    {
     "name": "stdout",
     "output_type": "stream",
     "text": [
      "[1, 4, 9, 16, 25]\n"
     ]
    }
   ],
   "source": [
    "list1 = [1,2,3,4,5]\n",
    "r = map(lambda x : x * x, list1)\n",
    "print(list(r))"
   ]
  },
  {
   "cell_type": "code",
   "execution_count": 4,
   "metadata": {},
   "outputs": [
    {
     "name": "stdout",
     "output_type": "stream",
     "text": [
      "[2, 8, 18, 32, 50]\n"
     ]
    }
   ],
   "source": [
    "list2 = [2,4,6,8,10]\n",
    "r1 = map(lambda x, y : x * y, list1, list2)\n",
    "print(list(r1))"
   ]
  },
  {
   "cell_type": "markdown",
   "metadata": {},
   "source": [
    "### filter过滤器"
   ]
  },
  {
   "cell_type": "code",
   "execution_count": 6,
   "metadata": {},
   "outputs": [
    {
     "name": "stdout",
     "output_type": "stream",
     "text": [
      "['hello ', 'aw']\n"
     ]
    }
   ],
   "source": [
    "def is_not_none(s):\n",
    "    return s and len(s.strip()) > 0\n",
    "\n",
    "list3 = [' ', '', 'hello ', 'aw', None]\n",
    "result = filter(is_not_none, list3)\n",
    "print(list(result))"
   ]
  },
  {
   "cell_type": "markdown",
   "metadata": {},
   "source": [
    "### reduce函数"
   ]
  },
  {
   "cell_type": "code",
   "execution_count": 9,
   "metadata": {},
   "outputs": [
    {
     "name": "stdout",
     "output_type": "stream",
     "text": [
      "25\n"
     ]
    }
   ],
   "source": [
    "from functools import reduce\n",
    "\n",
    "f = lambda x, y : x + y\n",
    "result1 = reduce(f, list1, 10)\n",
    "print(result1)"
   ]
  },
  {
   "cell_type": "markdown",
   "metadata": {},
   "source": [
    "### 列表推导式\n",
    "根据已有的列表推导出新的列表\n"
   ]
  },
  {
   "cell_type": "code",
   "execution_count": 13,
   "metadata": {},
   "outputs": [
    {
     "name": "stdout",
     "output_type": "stream",
     "text": [
      "[2, 4, 6, 8, 10]\n",
      "[2, 4, 6, 8, 10]\n",
      "[8, 10]\n"
     ]
    }
   ],
   "source": [
    "list1 = [1,2,3,4,5]\n",
    "f = lambda x : x + x\n",
    "r = map(f, list1)\n",
    "print(list(r))\n",
    "\n",
    "list2 = [i + i for i in list1]\n",
    "print(list2)\n",
    "\n",
    "# 有选择性的筛选\n",
    "list3 = [i + i for i in list1 if i > 3]\n",
    "print(list3)"
   ]
  },
  {
   "cell_type": "markdown",
   "metadata": {},
   "source": [
    "### 集合推导式"
   ]
  },
  {
   "cell_type": "code",
   "execution_count": 14,
   "metadata": {},
   "outputs": [
    {
     "name": "stdout",
     "output_type": "stream",
     "text": [
      "{2, 4, 6, 8, 10}\n",
      "{2, 4, 6, 8, 10}\n",
      "{8, 10}\n"
     ]
    }
   ],
   "source": [
    "list1 = {1,2,3,4,5}\n",
    "f = lambda x : x + x\n",
    "r = map(f, list1)\n",
    "print(set(r))\n",
    "\n",
    "list2 = {i + i for i in list1}\n",
    "print(list2)\n",
    "\n",
    "# 有选择性的筛选\n",
    "list3 = {i + i for i in list1 if i > 3}\n",
    "print(list3)"
   ]
  },
  {
   "cell_type": "markdown",
   "metadata": {},
   "source": [
    "### 字典推导式"
   ]
  },
  {
   "cell_type": "code",
   "execution_count": 21,
   "metadata": {},
   "outputs": [
    {
     "name": "stdout",
     "output_type": "stream",
     "text": [
      "['wangzhe001', 'lihui001', 'xialmm001']\n",
      "{21: 'wangzhe', 34: 'lihui', 45: 'xialmm'}\n",
      "{'lihui': 34}\n"
     ]
    }
   ],
   "source": [
    "s = {\n",
    "    'wangzhe':21,\n",
    "    'lihui':34,\n",
    "    'xialmm':45\n",
    "}\n",
    "\n",
    "# 拿出所有的key变成列表\n",
    "s_key = [key + '001' for key, value in s.items()]\n",
    "print(s_key)\n",
    "\n",
    "# key和value颠倒\n",
    "s1 = {value:key for key, value in s.items()}\n",
    "print(s1)\n",
    "\n",
    "# 有选择性的筛选\n",
    "s2 = {key:value for key, value in s.items() if value==34}\n",
    "print(s2)"
   ]
  },
  {
   "cell_type": "markdown",
   "metadata": {},
   "source": [
    "### 闭包：返回值为函数的函数"
   ]
  },
  {
   "cell_type": "code",
   "execution_count": 28,
   "metadata": {},
   "outputs": [
    {
     "name": "stdout",
     "output_type": "stream",
     "text": [
      "['22,34,we,2q,w\\n']\n"
     ]
    }
   ],
   "source": [
    "# 读出一个文件中带有某个关键字的行\n",
    "def make_filter(keep):\n",
    "    def the_filter(file_name):\n",
    "        file = open(file_name)\n",
    "        lines = file.readlines()\n",
    "        file.close()\n",
    "        filer_doc = [i for i in lines if keep in i]  # 过滤文件内容\n",
    "        return filer_doc\n",
    "    return the_filter\n",
    "\n",
    "# 这一行调用了make_filter函数，接受了the_filter函数作为返回值\n",
    "# 也就是说这里的filter1等于函数the_filter\n",
    "filter1 = make_filter('34')\n",
    "\n",
    "filter_result = filter1('data.csv')\n",
    "print(filter_result)"
   ]
  },
  {
   "cell_type": "code",
   "execution_count": null,
   "metadata": {},
   "outputs": [],
   "source": []
  }
 ],
 "metadata": {
  "kernelspec": {
   "display_name": "Python 3",
   "language": "python",
   "name": "python3"
  },
  "language_info": {
   "codemirror_mode": {
    "name": "ipython",
    "version": 3
   },
   "file_extension": ".py",
   "mimetype": "text/x-python",
   "name": "python",
   "nbconvert_exporter": "python",
   "pygments_lexer": "ipython3",
   "version": "3.7.4"
  }
 },
 "nbformat": 4,
 "nbformat_minor": 2
}
