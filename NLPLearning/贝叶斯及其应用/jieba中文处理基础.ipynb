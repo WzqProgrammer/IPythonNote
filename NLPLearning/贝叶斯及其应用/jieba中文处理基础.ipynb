{
 "cells": [
  {
   "cell_type": "markdown",
   "metadata": {},
   "source": [
    "# jieba介绍\n",
    "\n",
    "和拉丁语系不同，亚洲语言是不用空格分开每个有意义的词的，当我们进行自然语言处理时，大部分情况下，词汇是我们对句子和文章理解的基础，因此需要一个工具把完整的文本分解成粒度更细的词。   \n",
    "<br/>\n",
    "## 1.基本分词函数与用法  \n",
    "jieba.cut 以及 jieba.cut_for_search 返回的结构都是一个可迭代的 generator，可以使用 for 循环来获得分词后得到的每一个词语(unicode)\n",
    "**jieba.cut** 方法接受三个输入参数:  \n",
    "* 需要分词的字符串\n",
    "* cut_all 参数用来控制是否采用全模式\n",
    "* HMM 参数用来控制是否使用 HMM 模型   \n",
    "<br/> \n",
    "**jieba.cut_for_search** 方法接受两个参数\n",
    "* 需要分词的字符串\n",
    "* 是否使用 HMM 模型。  \n",
    "<br/> \n",
    "该方法适合用于搜索引擎构建倒排索引的分词，粒度比较细"
   ]
  },
  {
   "cell_type": "code",
   "execution_count": 1,
   "metadata": {},
   "outputs": [
    {
     "name": "stderr",
     "output_type": "stream",
     "text": [
      "Building prefix dict from the default dictionary ...\n",
      "Loading model from cache C:\\Users\\WANGZH~1\\AppData\\Local\\Temp\\jieba.cache\n",
      "Loading model cost 0.842 seconds.\n",
      "Prefix dict has been built succesfully.\n"
     ]
    },
    {
     "name": "stdout",
     "output_type": "stream",
     "text": [
      "Full Mode:我/在/学习/自然/自然语言/语言/处理\n",
      "Default Mode:我/在/学习/自然语言/处理\n"
     ]
    }
   ],
   "source": [
    "# encoding=utf-8\n",
    "import jieba\n",
    "\n",
    "seg_list = jieba.cut(\"我在学习自然语言处理\", cut_all=True)\n",
    "print(\"Full Mode:\" + \"/\".join(seg_list))   # 全模式\n",
    "\n",
    "seg_list = jieba.cut(\"我在学习自然语言处理\", cut_all=False)\n",
    "print(\"Default Mode:\" + \"/\".join(seg_list))  # 精确模式（默认模式）"
   ]
  },
  {
   "cell_type": "markdown",
   "metadata": {},
   "source": [
    "jieba.lcut以及jieba.lcut_for_search直接返回 list"
   ]
  },
  {
   "cell_type": "code",
   "execution_count": 5,
   "metadata": {},
   "outputs": [
    {
     "name": "stdout",
     "output_type": "stream",
     "text": [
      "小明 硕士 毕业 于 中国科学院 计算所 ， 后 在 哈佛大学 深造 。\n",
      "小明 硕士 毕业 于 中国 科学 学院 科学院 中国科学院 计算 计算所 ， 后 在 哈佛 大学 哈佛大学 深造 。\n"
     ]
    }
   ],
   "source": [
    "str_test = \"小明硕士毕业于中国科学院计算所，后在哈佛大学深造。\"\n",
    "result_lcut = jieba.lcut(str_test)\n",
    "print(\" \".join(result_lcut))\n",
    "print(\" \".join(jieba.lcut_for_search(str_test)))"
   ]
  },
  {
   "cell_type": "markdown",
   "metadata": {},
   "source": [
    "#### 添加用户自定义词典\n",
    "很多时候我们需要针对自己的场景进行分词，会有一些领域内的专有词汇。  \n",
    "<br/>\n",
    "1.可以用jieba.load_userdict(file_name)加载用户字典   \n",
    "2.少量的词汇可以自己用下面方法手动添加：\n",
    "* 用 add_word(word, freq=None, tag=None) 和 del_word(word) 在程序中动态修改词典\n",
    "* 用 suggest_freq(segment, tune=True) 可调节单个词语的词频，使其能（或不能）被分出来。"
   ]
  },
  {
   "cell_type": "code",
   "execution_count": 6,
   "metadata": {},
   "outputs": [
    {
     "name": "stdout",
     "output_type": "stream",
     "text": [
      "如果/放到/旧/字典/中将/出错/。\n"
     ]
    }
   ],
   "source": [
    "print('/'.join(jieba.cut(\"如果放到旧字典中将出错。\", HMM=False)))"
   ]
  },
  {
   "cell_type": "code",
   "execution_count": 7,
   "metadata": {},
   "outputs": [
    {
     "name": "stdout",
     "output_type": "stream",
     "text": [
      "如果/放到/旧/字典/中/将/出错/。\n"
     ]
    }
   ],
   "source": [
    "jieba.suggest_freq(('中', '将'), True)\n",
    "print('/'.join(jieba.cut(\"如果放到旧字典中将出错。\", HMM=False)))"
   ]
  },
  {
   "cell_type": "markdown",
   "metadata": {},
   "source": [
    "### 关键词提取    \n",
    "  \n",
    "  \n",
    "**基于TF-IDF算法的关键词抽取**   \n",
    "\n",
    "import jieba.analyse\n",
    "* jieba.analyse.extract_tags(sentence, topK=20, withWeight=False, allowPOS=())\n",
    "  * sentence 为待提取的文本\n",
    "  * topK 为返回几个 TF/IDF 权重最大的关键词，默认值为 20\n",
    "  * withWeight 为是否一并返回关键词权重值，默认值为 False\n",
    "  * allowPOS 仅包括指定词性的词，默认值为空，即不筛选"
   ]
  },
  {
   "cell_type": "code",
   "execution_count": 16,
   "metadata": {},
   "outputs": [
    {
     "name": "stdout",
     "output_type": "stream",
     "text": [
      "韦少 杜兰特 全明星 全明星赛 MVP 威少 正赛 科尔 投篮 勇士 球员 斯布鲁克 更衣柜 NBA 三连庄 张卫平 西部 指导 雷霆 明星队\n"
     ]
    }
   ],
   "source": [
    "import jieba.analyse as analyse\n",
    "lines = open('NBA.txt', 'r', encoding='utf-8').read()\n",
    "print(\" \".join(analyse.extract_tags(lines, topK=20, withWeight=False, allowPOS=())))"
   ]
  },
  {
   "cell_type": "code",
   "execution_count": 19,
   "metadata": {},
   "outputs": [
    {
     "name": "stdout",
     "output_type": "stream",
     "text": [
      "行者 八戒 师父 三藏 唐僧 大圣 沙僧 妖精 菩萨 和尚 那怪 那里 长老 呆子 徒弟 怎么 不知 老孙 国王 一个\n"
     ]
    }
   ],
   "source": [
    "lines = open('西游记.txt', 'r', encoding='utf-8').read()\n",
    "print(\" \".join(analyse.extract_tags(lines, topK=20, withWeight=False, allowPOS=())))"
   ]
  },
  {
   "cell_type": "markdown",
   "metadata": {},
   "source": [
    "##### 关于TF-IDF 算法的关键词抽取补充    \n",
    "<br/>  \n",
    "* 关键词提取所使用逆向文件频率（IDF）文本语料库可以切换成自定义语料库的路径\n",
    "\n",
    "  * 用法： jieba.analyse.set_idf_path(file_name) # file_name为自定义语料库的路径\n",
    "     * 自定义语料库示例见[这里](https://github.com/fxsjy/jieba/blob/master/extra_dict/idf.txt.big)\n",
    "     * 用法示例见[这里](https://github.com/fxsjy/jieba/blob/master/test/extract_tags_idfpath.py)\n",
    "  * 关键词提取所使用停止词（Stop Words）文本语料库可以切换成自定义语料库的路径\n",
    "     * 用法： jieba.analyse.set_stop_words(file_name) # file_name为自定义语料库的路径\n",
    "     * 自定义语料库示例见[这里](https://github.com/fxsjy/jieba/blob/master/extra_dict/stop_words.txt)\n",
    "     * 用法示例见[这里](https://github.com/fxsjy/jieba/blob/master/test/extract_tags_stop_words.py)\n",
    "* 关键词一并返回关键词权重值示例\n",
    "  * 用法示例见[这里](https://github.com/fxsjy/jieba/blob/master/test/extract_tags_with_weight.py)"
   ]
  },
  {
   "cell_type": "markdown",
   "metadata": {},
   "source": [
    "##### 基于 TextRank 算法的关键词抽取\n",
    "* jieba.analyse.textrank(sentence, topK=20, withWeight=False, allowPOS=('ns', 'n', 'vn', 'v')) 直接使用，接口相同，注意默认过滤词性。\n",
    "* jieba.analyse.TextRank() 新建自定义 TextRank 实例  \n",
    "<br/> \n",
    "算法论文：[TextRank:Bringing Order into Texts](http://web.eecs.umich.edu/~mihalcea/papers/mihalcea.emnlp04.pdf)   \n",
    "<br/> \n",
    "**基本思想**\n",
    "* 将待抽取关键词的文本进行分词\n",
    "* 以固定窗口大小（默认为5，通过span属性调整），词之间的共现关系，构建图\n",
    "* 计算图中节点的PageRank，注意是无向带权图"
   ]
  },
  {
   "cell_type": "code",
   "execution_count": 22,
   "metadata": {},
   "outputs": [
    {
     "name": "stdout",
     "output_type": "stream",
     "text": [
      "行者 师父 八戒 三藏 大圣 不知 菩萨 妖精 只见 长老 国王 却说 呆子 徒弟 小妖 出来 不得 不见 不能 师徒\n"
     ]
    }
   ],
   "source": [
    "print(\" \".join(analyse.textrank(lines, topK=20, withWeight=False, allowPOS=('ns', 'n', 'vn', 'v'))))"
   ]
  },
  {
   "cell_type": "markdown",
   "metadata": {},
   "source": [
    "### 词性标注   \n",
    "<br/>  \n",
    "* jieba.posseg.POSTokenizer(tokenizer=None) 新建自定义分词器，tokenizer 参数可指定内部使用的 jieba.Tokenizer 分词器。jieba.posseg.dt 为默认词性标注分词器。\n",
    "* 标注句子分词后每个词的词性，采用和 ictclas 兼容的标记法。\n",
    "* 具体的词性对照表参见[计算所汉语词性标记集](http://ictclas.nlpir.org/nlpir/html/readme.htm)"
   ]
  },
  {
   "cell_type": "code",
   "execution_count": 23,
   "metadata": {},
   "outputs": [
    {
     "name": "stdout",
     "output_type": "stream",
     "text": [
      "我 r\n",
      "爱 v\n",
      "自然语言 l\n",
      "处理 v\n"
     ]
    }
   ],
   "source": [
    "import jieba.posseg as pseg\n",
    "words = pseg.cut(\"我爱自然语言处理\")\n",
    "for word, flag in words:\n",
    "    print('%s %s' % (word, flag))"
   ]
  },
  {
   "cell_type": "markdown",
   "metadata": {},
   "source": [
    "#### 并行分词  \n",
    "<br/> \n",
    "原理：将目标文本按行分隔后，把各行文本分配到多个 Python 进程并行分词，然后归并结果，从而获得分词速度的可观提升 基于 python 自带的 multiprocessing 模块，目前暂不支持 Windows  \n",
    "<br/>\n",
    "用法：\n",
    "* jieba.enable_parallel(4) # 开启并行分词模式，参数为并行进程数\n",
    "* jieba.disable_parallel() # 关闭并行分词模式\n",
    "实验结果：在 4 核 3.4GHz Linux 机器上，对金庸全集进行精确分词，获得了 1MB/s 的速度，是单进程版的 3.3 倍。  \n",
    "<br/> \n",
    "注意：并行分词仅支持默认分词器 jieba.dt 和 jieba.posseg.dt。"
   ]
  },
  {
   "cell_type": "code",
   "execution_count": 25,
   "metadata": {},
   "outputs": [
    {
     "name": "stdout",
     "output_type": "stream",
     "text": [
      "非并行分词速度为 164874.4286390581 bytes/s\n"
     ]
    }
   ],
   "source": [
    "import sys\n",
    "import time\n",
    "\"\"\"\n",
    "jieba.enable_parallel()\n",
    "content = open('西游记.txt', 'r', encoding='utf-8').read()\n",
    "t1 = time.time()\n",
    "words = '/'.join(jieba.cut(content))\n",
    "t2 = time.time()\n",
    "tm_cost = t2 - t1\n",
    "print('并行分词速度为 %s bytes/s' % (len(content)/tm_cost))\n",
    "jieba.disable_parallel()\n",
    "\"\"\"\n",
    "\n",
    "content = open('西游记.txt', 'r', encoding='utf-8').read()\n",
    "t1 = time.time()\n",
    "words = '/'.join(jieba.cut(content))\n",
    "t2 = time.time()\n",
    "tm_cost = t2 - t1\n",
    "print('非并行分词速度为 %s bytes/s' % (len(content)/tm_cost))"
   ]
  },
  {
   "cell_type": "markdown",
   "metadata": {},
   "source": [
    "#### Tokenize: 返回词语在原文的起止位置  \n",
    "<br/> \n",
    "注意：输入参数只接受unicode"
   ]
  },
  {
   "cell_type": "code",
   "execution_count": 27,
   "metadata": {},
   "outputs": [
    {
     "name": "stdout",
     "output_type": "stream",
     "text": [
      "这是默认模式的tokenize\n",
      "自然语言 \t\t start: 0 \t\t end: 4\n",
      "处理 \t\t start: 4 \t\t end: 6\n",
      "非常 \t\t start: 6 \t\t end: 8\n",
      "有用 \t\t start: 8 \t\t end: 10\n",
      "\n",
      "-------------------华丽的分割线------------------------\n",
      "\n",
      "这是搜索模式的tokenize\n",
      "自然 \t\t start: 0 \t\t end: 2\n",
      "语言 \t\t start: 2 \t\t end: 4\n",
      "自然语言 \t\t start: 0 \t\t end: 4\n",
      "处理 \t\t start: 4 \t\t end: 6\n",
      "非常 \t\t start: 6 \t\t end: 8\n",
      "有用 \t\t start: 8 \t\t end: 10\n"
     ]
    }
   ],
   "source": [
    "print(\"这是默认模式的tokenize\")\n",
    "result = jieba.tokenize(\"自然语言处理非常有用\")\n",
    "for tk in result:\n",
    "    print(\"%s \\t\\t start: %d \\t\\t end: %d\" % (tk[0], tk[1], tk[2]))\n",
    "    \n",
    "print(\"\\n-------------------华丽的分割线------------------------\\n\")\n",
    "\n",
    "print(\"这是搜索模式的tokenize\")\n",
    "result = jieba.tokenize(\"自然语言处理非常有用\", mode='search')\n",
    "for tk in result:\n",
    "    print(\"%s \\t\\t start: %d \\t\\t end: %d\" % (tk[0], tk[1], tk[2]))"
   ]
  },
  {
   "cell_type": "markdown",
   "metadata": {},
   "source": [
    "#### ChineseAnalyzer for Whoosh 搜索引擎"
   ]
  },
  {
   "cell_type": "code",
   "execution_count": 9,
   "metadata": {},
   "outputs": [
    {
     "ename": "LockError",
     "evalue": "",
     "output_type": "error",
     "traceback": [
      "\u001b[1;31m---------------------------------------------------------------------------\u001b[0m",
      "\u001b[1;31mLockError\u001b[0m                                 Traceback (most recent call last)",
      "\u001b[1;32m<ipython-input-9-3a4f649519f8>\u001b[0m in \u001b[0;36m<module>\u001b[1;34m\u001b[0m\n\u001b[0;32m     17\u001b[0m \u001b[0mix\u001b[0m \u001b[1;33m=\u001b[0m \u001b[0mcreate_in\u001b[0m\u001b[1;33m(\u001b[0m\u001b[1;34m'tmp'\u001b[0m\u001b[1;33m,\u001b[0m \u001b[0mschema\u001b[0m\u001b[1;33m)\u001b[0m   \u001b[1;31m# for create new index\u001b[0m\u001b[1;33m\u001b[0m\u001b[1;33m\u001b[0m\u001b[0m\n\u001b[0;32m     18\u001b[0m \u001b[1;31m# ix = open_dir('tmp')  # for read only\u001b[0m\u001b[1;33m\u001b[0m\u001b[1;33m\u001b[0m\u001b[1;33m\u001b[0m\u001b[0m\n\u001b[1;32m---> 19\u001b[1;33m \u001b[0mwriter\u001b[0m \u001b[1;33m=\u001b[0m \u001b[0mix\u001b[0m\u001b[1;33m.\u001b[0m\u001b[0mwriter\u001b[0m\u001b[1;33m(\u001b[0m\u001b[1;33m)\u001b[0m\u001b[1;33m\u001b[0m\u001b[1;33m\u001b[0m\u001b[0m\n\u001b[0m\u001b[0;32m     20\u001b[0m \u001b[1;33m\u001b[0m\u001b[0m\n\u001b[0;32m     21\u001b[0m writer.add_document(\n",
      "\u001b[1;32me:\\python\\lib\\site-packages\\whoosh\\index.py\u001b[0m in \u001b[0;36mwriter\u001b[1;34m(self, procs, **kwargs)\u001b[0m\n\u001b[0;32m    462\u001b[0m         \u001b[1;32melse\u001b[0m\u001b[1;33m:\u001b[0m\u001b[1;33m\u001b[0m\u001b[1;33m\u001b[0m\u001b[0m\n\u001b[0;32m    463\u001b[0m             \u001b[1;32mfrom\u001b[0m \u001b[0mwhoosh\u001b[0m\u001b[1;33m.\u001b[0m\u001b[0mwriting\u001b[0m \u001b[1;32mimport\u001b[0m \u001b[0mSegmentWriter\u001b[0m\u001b[1;33m\u001b[0m\u001b[1;33m\u001b[0m\u001b[0m\n\u001b[1;32m--> 464\u001b[1;33m             \u001b[1;32mreturn\u001b[0m \u001b[0mSegmentWriter\u001b[0m\u001b[1;33m(\u001b[0m\u001b[0mself\u001b[0m\u001b[1;33m,\u001b[0m \u001b[1;33m**\u001b[0m\u001b[0mkwargs\u001b[0m\u001b[1;33m)\u001b[0m\u001b[1;33m\u001b[0m\u001b[1;33m\u001b[0m\u001b[0m\n\u001b[0m\u001b[0;32m    465\u001b[0m \u001b[1;33m\u001b[0m\u001b[0m\n\u001b[0;32m    466\u001b[0m     \u001b[1;32mdef\u001b[0m \u001b[0mlock\u001b[0m\u001b[1;33m(\u001b[0m\u001b[0mself\u001b[0m\u001b[1;33m,\u001b[0m \u001b[0mname\u001b[0m\u001b[1;33m)\u001b[0m\u001b[1;33m:\u001b[0m\u001b[1;33m\u001b[0m\u001b[1;33m\u001b[0m\u001b[0m\n",
      "\u001b[1;32me:\\python\\lib\\site-packages\\whoosh\\writing.py\u001b[0m in \u001b[0;36m__init__\u001b[1;34m(self, ix, poolclass, timeout, delay, _lk, limitmb, docbase, codec, compound, **kwargs)\u001b[0m\n\u001b[0;32m    513\u001b[0m             if not try_for(self.writelock.acquire, timeout=timeout,\n\u001b[0;32m    514\u001b[0m                            delay=delay):\n\u001b[1;32m--> 515\u001b[1;33m                 \u001b[1;32mraise\u001b[0m \u001b[0mLockError\u001b[0m\u001b[1;33m\u001b[0m\u001b[1;33m\u001b[0m\u001b[0m\n\u001b[0m\u001b[0;32m    516\u001b[0m \u001b[1;33m\u001b[0m\u001b[0m\n\u001b[0;32m    517\u001b[0m         \u001b[1;32mif\u001b[0m \u001b[0mcodec\u001b[0m \u001b[1;32mis\u001b[0m \u001b[1;32mNone\u001b[0m\u001b[1;33m:\u001b[0m\u001b[1;33m\u001b[0m\u001b[1;33m\u001b[0m\u001b[0m\n",
      "\u001b[1;31mLockError\u001b[0m: "
     ]
    }
   ],
   "source": [
    "from __future__ import unicode_literals\n",
    "import os, sys\n",
    "sys.path.append('../')\n",
    "import jieba\n",
    "from jieba.analyse import ChineseAnalyzer\n",
    "from whoosh.index import create_in, open_dir\n",
    "from whoosh.fields import *\n",
    "from whoosh.qparser import QueryParser\n",
    "\n",
    "analyzer = jieba.analyse.ChineseAnalyzer()\n",
    "schema = Schema(title=TEXT(stored=True), path=ID(stored=True),\n",
    "                content=TEXT(stored=True, analyzer=analyzer))\n",
    "\n",
    "if not os.path.exists('tmp'):\n",
    "    os.mkdir('tmp')\n",
    "    \n",
    "ix = create_in('tmp', schema)   # for create new index\n",
    "# ix = open_dir('tmp')  # for read only\n",
    "writer = ix.writer()\n",
    "\n",
    "writer.add_document(\n",
    "    title = 'document1',\n",
    "    path = '/a',\n",
    "    content = \"This is the first document we have added!\"\n",
    ")\n",
    "\n",
    "writer.add_document(\n",
    "    title = 'document2',\n",
    "    path = '/b',\n",
    "    content = \"The second one 你 中文测试中文 is even more interesting! 吃水果\"\n",
    ")\n",
    "\n",
    "writer.add_document(\n",
    "    title = 'document3',\n",
    "    path = '/c',\n",
    "    content = \"买水果然后来世博园\"\n",
    ")\n",
    "\n",
    "writer.add_document(\n",
    "    title = 'document4',\n",
    "    path = '/c',\n",
    "    content = \"工信处女干事每月经过下属科室都要亲口交代24口交换机等技术性器件的安装工作\"\n",
    ")\n",
    "\n",
    "writer.add_document(\n",
    "    title = 'document4',\n",
    "    path = '/c',\n",
    "    content = \"咱俩交换一下吧。\"\n",
    ")\n",
    "\n",
    "writer.commit()\n",
    "searcher = ix.searcher()\n",
    "parser = QueryParser(\"content\", schema=ix.schema)\n",
    "\n",
    "for keyword in (\"水果世博园\", \"你\", \"first\", \"中文\", \"交换机\", \"交换\"):\n",
    "    print(keyword+\"的结果如下：\")\n",
    "    q = parser.parse(keyword)\n",
    "    results = searcher.search(q)\n",
    "    for hit in results:\n",
    "        print(hit.highlights(\"callableontent\"))\n",
    "        \n",
    "    print(\"\\n-----------------------华丽的分割线-----------------------------\\n\")\n",
    "    \n",
    "for t in analyzer(\"我的好朋友是李明;我爱北京天安门;IBM和Microsoft; \\\n",
    "                  I have a dream. this is intetesting and interested me a lot\"):\n",
    "    print(t.text)\n",
    "    "
   ]
  },
  {
   "cell_type": "code",
   "execution_count": null,
   "metadata": {},
   "outputs": [],
   "source": []
  }
 ],
 "metadata": {
  "kernelspec": {
   "display_name": "Python 3",
   "language": "python",
   "name": "python3"
  },
  "language_info": {
   "codemirror_mode": {
    "name": "ipython",
    "version": 3
   },
   "file_extension": ".py",
   "mimetype": "text/x-python",
   "name": "python",
   "nbconvert_exporter": "python",
   "pygments_lexer": "ipython3",
   "version": "3.7.4"
  }
 },
 "nbformat": 4,
 "nbformat_minor": 2
}
