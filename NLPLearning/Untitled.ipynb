{
 "cells": [
  {
   "cell_type": "code",
   "execution_count": 5,
   "metadata": {},
   "outputs": [
    {
     "name": "stdout",
     "output_type": "stream",
     "text": [
      "[('apple',), ('boy',), ('cat',)]\n",
      "[]\n"
     ]
    }
   ],
   "source": [
    "test_dict = {'apple':1, 'boy':2, 'cat':3}\n",
    "zip_dict = zip(test_dict)\n",
    "print(list(zip_dict))\n",
    "\n",
    "n_dict = zip(*zip_dict)\n",
    "print(list(n_dict))"
   ]
  },
  {
   "cell_type": "code",
   "execution_count": 12,
   "metadata": {},
   "outputs": [
    {
     "name": "stdout",
     "output_type": "stream",
     "text": [
      "b'\\xe3\\x80\\x80 12 aa\\xe6\\x88\\x91\\xe6\\x98\\xaf\\xe5\\x95\\x8a\\xe5\\x95\\x8a\\xe5\\x95\\x8a'\n",
      "　 12 aa我是啊啊啊\n"
     ]
    }
   ],
   "source": [
    "my_str = '\\u3000 12 aa我是啊啊啊'\n",
    "to_str = my_str.encode('utf-8')\n",
    "print(to_str)\n",
    "\n",
    "de_str = to_str.decode('utf-8')\n",
    "print(de_str)"
   ]
  },
  {
   "cell_type": "code",
   "execution_count": null,
   "metadata": {},
   "outputs": [],
   "source": []
  },
  {
   "cell_type": "code",
   "execution_count": null,
   "metadata": {},
   "outputs": [],
   "source": []
  }
 ],
 "metadata": {
  "kernelspec": {
   "display_name": "Python 3",
   "language": "python",
   "name": "python3"
  },
  "language_info": {
   "codemirror_mode": {
    "name": "ipython",
    "version": 3
   },
   "file_extension": ".py",
   "mimetype": "text/x-python",
   "name": "python",
   "nbconvert_exporter": "python",
   "pygments_lexer": "ipython3",
   "version": "3.7.4"
  }
 },
 "nbformat": 4,
 "nbformat_minor": 2
}
