{
 "cells": [
  {
   "cell_type": "markdown",
   "metadata": {},
   "source": [
    "想要做到和人聊天，首先得先读懂对方在说什么，所以问句解析是整个聊天过程的第一步，问句解析是一个涉及知识非常全面的过程，几乎涵盖了自然语言处理的全部，本节让我们尝试一下如何分析一个问句。\n",
    "\n",
    "## 1. 问句解析的过程\n",
    "一般问句解析需要进行分词、词性标注、命名实体识别、关键词提取、句法分析以及查询问句分类等。这些事情我们从头开始做无非是重复造轮子，傻子才会这么做，人之所以为人是因为会使用工具。网络上有关中文的NLP工具有很多，介绍几个不错的：  \n",
    "<br/> \n",
    "* 第一个要数哈工大的LTP(语言技术平台)了，它可以做中文分词、词性标注、命名实体识别、依存句法分析、语义角色标注等丰富、 高效、精准的自然语言处理技术  \n",
    "<br/> \n",
    "* 第二个就是博森科技了，它除了做中文分词、词性标注、命名实体识别、依存文法之外还可以做情感分析、关键词提取、新闻分类、语义联想、时间转换、新闻摘要等，但因为是商业化的公司，除了分词和词性标注免费之外全都收费  \n",
    "<br/> \n",
    "* 第三个就是jieba分词，这个开源小工具分词和词性标注做的挺不错的，但是其他方面还欠缺一下，如果只是中文分词的需求完全可以满足  \n",
    "<br/> \n",
    "* 第四个就是中科院张华平博士的NLPIR汉语分词系统，也能支持关键词提取  \n",
    "<br/> \n",
    "我们优先选择NLPIR(安装pynlpir库)  \n",
    "安装完后测试下分词效果："
   ]
  },
  {
   "cell_type": "code",
   "execution_count": 7,
   "metadata": {},
   "outputs": [
    {
     "name": "stdout",
     "output_type": "stream",
     "text": [
      "聊天 \t verb\n",
      "机器人 \t noun\n",
      "到底 \t adverb\n",
      "该 \t verb\n",
      "怎么 \t pronoun\n",
      "做 \t verb\n",
      "呢 \t modal particle\n",
      "？ \t punctuation mark\n"
     ]
    }
   ],
   "source": [
    "import sys\n",
    "import pynlpir\n",
    "\n",
    "pynlpir.open()\n",
    "s = '聊天机器人到底该怎么做呢？'\n",
    "segments = pynlpir.segment(s)\n",
    "for segment in segments:\n",
    "    print(segment[0], '\\t', segment[1])\n",
    "    "
   ]
  },
  {
   "cell_type": "code",
   "execution_count": 8,
   "metadata": {},
   "outputs": [
    {
     "name": "stdout",
     "output_type": "stream",
     "text": [
      "聊天 \t 2.0\n",
      "机器人 \t 2.0\n"
     ]
    }
   ],
   "source": [
    "# 关键词提取\n",
    "key_words = pynlpir.get_key_words(s, weighted=True)\n",
    "for key_word in key_words:\n",
    "    print(key_word[0], '\\t', key_word[1])"
   ]
  },
  {
   "cell_type": "code",
   "execution_count": 9,
   "metadata": {},
   "outputs": [
    {
     "name": "stdout",
     "output_type": "stream",
     "text": [
      "海洋 \t noun\n",
      "是 \t verb:verb 是\n",
      "如何 \t pronoun:interrogative pronoun:predicate interrogative pronoun\n",
      "形成 \t verb\n",
      "的 \t particle:particle 的/底\n",
      "？ \t punctuation mark:question mark\n"
     ]
    }
   ],
   "source": [
    "s = '海洋是如何形成的？'\n",
    "# 分析功能全部打开\n",
    "segments = pynlpir.segment(s, pos_names='all')\n",
    "for segment in segments:\n",
    "    print(segment[0], '\\t', segment[1])"
   ]
  },
  {
   "cell_type": "code",
   "execution_count": 10,
   "metadata": {},
   "outputs": [
    {
     "name": "stdout",
     "output_type": "stream",
     "text": [
      "海洋 \t 名词\n",
      "是 \t 动词:动词\"是\"\n",
      "如何 \t 代词:疑问代词:谓词性疑问代词\n",
      "形成 \t 动词\n",
      "的 \t 助词:的／底\n",
      "？ \t 标点符号:问号\n"
     ]
    }
   ],
   "source": [
    "# 不使用英语\n",
    "segments = pynlpir.segment(s, pos_names='all', pos_english=False)\n",
    "for segment in segments:\n",
    "    print(segment[0], '\\t', segment[1])"
   ]
  },
  {
   "cell_type": "markdown",
   "metadata": {},
   "source": [
    "## 解释一下\n",
    "这里的segment是切词的意思，返回的是tuple(token, pos)，其中token就是切出来的词，pos就是语言属性  \n",
    "\n",
    "调用segment方法指定的pos_names参数可以是'all', 'child', 'parent'，默认是parent， 表示获取该词性的最顶级词性，child表示获取该词性的最具体的信息，all表示获取该词性相关的所有词性信息，相当于从其顶级词性到该词性的一条路径"
   ]
  },
  {
   "cell_type": "markdown",
   "metadata": {},
   "source": [
    "## 2. 词性分类表\n",
    "查看nlpir的源代码中的pynlpir/docs/pos_map.rst，可以看出全部词性分类及其子类别如下："
   ]
  },
  {
   "cell_type": "raw",
   "metadata": {},
   "source": [
    "POS_MAP = {\n",
    "        'n': ('名词', 'noun', {\n",
    "            'nr': ('人名', 'personal name', {\n",
    "                'nr1': ('汉语姓氏', 'Chinese surname'),\n",
    "                'nr2': ('汉语名字', 'Chinese given name'),\n",
    "                'nrj': ('日语人名', 'Japanese personal name'),\n",
    "                'nrf': ('音译人名', 'transcribed personal name')\n",
    "            }),\n",
    "            'ns': ('地名', 'toponym', {\n",
    "                'nsf': ('音译地名', 'transcribed toponym'),\n",
    "            }),\n",
    "            'nt': ('机构团体名', 'organization/group name'),\n",
    "            'nz': ('其它专名', 'other proper noun'),\n",
    "            'nl': ('名词性惯用语', 'noun phrase'),\n",
    "            'ng': ('名词性语素', 'noun morpheme'),\n",
    "        }),\n",
    "        't': ('时间词', 'time word', {\n",
    "            'tg': ('时间词性语素', 'time morpheme'),\n",
    "        }),\n",
    "        's': ('处所词', 'locative word'),\n",
    "        'f': ('方位词', 'noun of locality'),\n",
    "        'v': ('动词', 'verb', {\n",
    "            'vd': ('副动词', 'auxiliary verb'),\n",
    "            'vn': ('名动词', 'noun-verb'),\n",
    "            'vshi': ('动词\"是\"', 'verb 是'),\n",
    "            'vyou': ('动词\"有\"', 'verb 有'),\n",
    "            'vf': ('趋向动词', 'directional verb'),\n",
    "            'vx': ('行事动词', 'performative verb'),\n",
    "            'vi': ('不及物动词', 'intransitive verb'),\n",
    "            'vl': ('动词性惯用语', 'verb phrase'),\n",
    "            'vg': ('动词性语素', 'verb morpheme'),\n",
    "        }),\n",
    "        'a': ('形容词', 'adjective', {\n",
    "            'ad': ('副形词', 'auxiliary adjective'),\n",
    "            'an': ('名形词', 'noun-adjective'),\n",
    "            'ag': ('形容词性语素', 'adjective morpheme'),\n",
    "            'al': ('形容词性惯用语', 'adjective phrase'),\n",
    "        }),\n",
    "        'b': ('区别词', 'distinguishing word', {\n",
    "            'bl': ('区别词性惯用语', 'distinguishing phrase'),\n",
    "        }),\n",
    "        'z': ('状态词', 'status word'),\n",
    "       'r': ('代词', 'pronoun', {\n",
    "            'rr': ('人称代词', 'personal pronoun'),\n",
    "            'rz': ('指示代词', 'demonstrative pronoun', {\n",
    "                'rzt': ('时间指示代词', 'temporal demonstrative pronoun'),\n",
    "                'rzs': ('处所指示代词', 'locative demonstrative pronoun'),\n",
    "                'rzv': ('谓词性指示代词', 'predicate demonstrative pronoun'),\n",
    "            }),\n",
    "            'ry': ('疑问代词', 'interrogative pronoun', {\n",
    "                'ryt': ('时间疑问代词', 'temporal interrogative pronoun'),\n",
    "                'rys': ('处所疑问代词', 'locative interrogative pronoun'),\n",
    "                'ryv': ('谓词性疑问代词', 'predicate interrogative pronoun'),\n",
    "            }),\n",
    "            'rg': ('代词性语素', 'pronoun morpheme'),\n",
    "        }),\n",
    "        'm': ('数词', 'numeral', {\n",
    "            'mq': ('数量词', 'numeral-plus-classifier compound'),\n",
    "        }),\n",
    "        'q': ('量词', 'classifier', {\n",
    "            'qv': ('动量词', 'verbal classifier'),\n",
    "            'qt': ('时量词', 'temporal classifier'),\n",
    "        }),\n",
    "        'd': ('副词', 'adverb'),\n",
    "        'p': ('介词', 'preposition', {\n",
    "            'pba': ('介词“把”', 'preposition 把'),\n",
    "            'pbei': ('介词“被”', 'preposition 被'),\n",
    "        }),\n",
    "        'c': ('连词', 'conjunction', {\n",
    "            'cc': ('并列连词', 'coordinating conjunction'),\n",
    "        }),\n",
    "        'u': ('助词', 'particle', {\n",
    "            'uzhe': ('着', 'particle 着'),\n",
    "            'ule': ('了／喽', 'particle 了/喽'),\n",
    "            'uguo': ('过', 'particle 过'),\n",
    "            'ude1': ('的／底', 'particle 的/底'),\n",
    "            'ude2': ('地', 'particle 地'),\n",
    "            'ude3': ('得', 'particle 得'),\n",
    "            'usuo': ('所', 'particle 所'),\n",
    "            'udeng': ('等／等等／云云', 'particle 等/等等/云云'),\n",
    "            'uyy': ('一样／一般／似的／般', 'particle 一样/一般/似的/般'),\n",
    "            'udh': ('的话', 'particle 的话'),\n",
    "            'uls': ('来讲／来说／而言／说来', 'particle 来讲/来说/而言/说来'),\n",
    "            'uzhi': ('之', 'particle 之'),\n",
    "            'ulian': ('连', 'particle 连'),\n",
    "        }),\n",
    "       'e': ('叹词', 'interjection'),\n",
    "        'y': ('语气词', 'modal particle'),\n",
    "        'o': ('拟声词', 'onomatopoeia'),\n",
    "        'h': ('前缀', 'prefix'),\n",
    "        'k': ('后缀' 'suffix'),\n",
    "        'x': ('字符串', 'string', {\n",
    "            'xe': ('Email字符串', 'email address'),\n",
    "            'xs': ('微博会话分隔符', 'hashtag'),\n",
    "            'xm': ('表情符合', 'emoticon'),\n",
    "            'xu': ('网址URL', 'URL'),\n",
    "            'xx': ('非语素字', 'non-morpheme character'),\n",
    "        }),\n",
    "        'w': ('标点符号', 'punctuation mark', {\n",
    "            'wkz': ('左括号', 'left parenthesis/bracket'),\n",
    "            'wky': ('右括号', 'right parenthesis/bracket'),\n",
    "            'wyz': ('左引号', 'left quotation mark'),\n",
    "            'wyy': ('右引号', 'right quotation mark'),\n",
    "            'wj': ('句号', 'period'),\n",
    "            'ww': ('问号', 'question mark'),\n",
    "            'wt': ('叹号', 'exclamation mark'),\n",
    "            'wd': ('逗号', 'comma'),\n",
    "            'wf': ('分号', 'semicolon'),\n",
    "            'wn': ('顿号', 'enumeration comma'),\n",
    "            'wm': ('冒号', 'colon'),\n",
    "            'ws': ('省略号', 'ellipsis'),\n",
    "            'wp': ('破折号', 'dash'),\n",
    "            'wb': ('百分号千分号', 'percent/per mille sign'),\n",
    "            'wh': ('单位符号', 'unit of measure sign'),\n",
    "        }),\n",
    "    }"
   ]
  },
  {
   "cell_type": "code",
   "execution_count": null,
   "metadata": {},
   "outputs": [],
   "source": []
  }
 ],
 "metadata": {
  "kernelspec": {
   "display_name": "Python 3",
   "language": "python",
   "name": "python3"
  },
  "language_info": {
   "codemirror_mode": {
    "name": "ipython",
    "version": 3
   },
   "file_extension": ".py",
   "mimetype": "text/x-python",
   "name": "python",
   "nbconvert_exporter": "python",
   "pygments_lexer": "ipython3",
   "version": "3.7.4"
  }
 },
 "nbformat": 4,
 "nbformat_minor": 2
}
